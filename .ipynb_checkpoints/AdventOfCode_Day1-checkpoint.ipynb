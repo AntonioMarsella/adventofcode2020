{
 "cells": [
  {
   "cell_type": "markdown",
   "metadata": {},
   "source": [
    "# Advent of Code\n",
    "## Day 1\n",
    "### Task 1\n",
    "https://adventofcode.com/2020/day/1\n",
    "\n",
    "Problem:\n",
    ">[...]they need you to find the two entries that sum to 2020 and then multiply those two numbers together.\n",
    ">\n",
    ">For example, suppose your expense report contained the following:\n",
    ">\n",
    ">1721\n",
    ">979\n",
    ">366\n",
    ">299\n",
    ">675\n",
    ">1456\n",
    ">In this list, the two entries that sum to 2020 are 1721 and 299. Multiplying them together >produces 1721 * 299 = 514579, so the correct answer is 514579.\n",
    ">\n",
    ">Of course, your expense report is much larger. Find the two entries that sum to 2020; what do >you get if you multiply them together?\n",
    "\n"
   ]
  },
  {
   "cell_type": "code",
   "execution_count": 1,
   "metadata": {},
   "outputs": [],
   "source": [
    "input_data_path = \"data/day1_input\""
   ]
  },
  {
   "cell_type": "code",
   "execution_count": 8,
   "metadata": {},
   "outputs": [],
   "source": [
    "with open(input_data_path) as f:\n",
    "    data = [eval(x.replace(\"\\n\",\"\")) for x in f.readlines()]"
   ]
  },
  {
   "cell_type": "code",
   "execution_count": 9,
   "metadata": {},
   "outputs": [
    {
     "data": {
      "text/plain": [
       "[997,\n",
       " 1582,\n",
       " 1790,\n",
       " 1798,\n",
       " 1094,\n",
       " 1831,\n",
       " 1879,\n",
       " 1730,\n",
       " 1995,\n",
       " 1702,\n",
       " 1680,\n",
       " 1869,\n",
       " 1964,\n",
       " 1777,\n",
       " 1862,\n",
       " 1928,\n",
       " 1997,\n",
       " 1741,\n",
       " 1604,\n",
       " 1691,\n",
       " 1219,\n",
       " 1458,\n",
       " 1749,\n",
       " 1717,\n",
       " 1786,\n",
       " 1665,\n",
       " 1724,\n",
       " 1998,\n",
       " 1589,\n",
       " 1828,\n",
       " 1953,\n",
       " 1848,\n",
       " 1500,\n",
       " 1590,\n",
       " 1968,\n",
       " 1948,\n",
       " 1323,\n",
       " 1800,\n",
       " 1986,\n",
       " 679,\n",
       " 1907,\n",
       " 1916,\n",
       " 1820,\n",
       " 1661,\n",
       " 1479,\n",
       " 1808,\n",
       " 1824,\n",
       " 1825,\n",
       " 1952,\n",
       " 1666,\n",
       " 1541,\n",
       " 1791,\n",
       " 1906,\n",
       " 1638,\n",
       " 1557,\n",
       " 1999,\n",
       " 1710,\n",
       " 1549,\n",
       " 1912,\n",
       " 1974,\n",
       " 1628,\n",
       " 1748,\n",
       " 1411,\n",
       " 1978,\n",
       " 1865,\n",
       " 1932,\n",
       " 1839,\n",
       " 1892,\n",
       " 1981,\n",
       " 1807,\n",
       " 357,\n",
       " 912,\n",
       " 1443,\n",
       " 1972,\n",
       " 1816,\n",
       " 1890,\n",
       " 1029,\n",
       " 1175,\n",
       " 1522,\n",
       " 1750,\n",
       " 2001,\n",
       " 1655,\n",
       " 1955,\n",
       " 1949,\n",
       " 1660,\n",
       " 233,\n",
       " 1891,\n",
       " 1994,\n",
       " 1934,\n",
       " 1908,\n",
       " 1573,\n",
       " 1712,\n",
       " 1622,\n",
       " 1770,\n",
       " 1574,\n",
       " 1778,\n",
       " 1851,\n",
       " 2004,\n",
       " 1818,\n",
       " 1200,\n",
       " 1229,\n",
       " 1110,\n",
       " 1005,\n",
       " 1716,\n",
       " 1765,\n",
       " 1835,\n",
       " 1773,\n",
       " 15,\n",
       " 1914,\n",
       " 1833,\n",
       " 1689,\n",
       " 1843,\n",
       " 1718,\n",
       " 1872,\n",
       " 390,\n",
       " 1941,\n",
       " 1178,\n",
       " 1670,\n",
       " 1899,\n",
       " 1864,\n",
       " 1913,\n",
       " 2010,\n",
       " 1855,\n",
       " 1797,\n",
       " 1767,\n",
       " 1673,\n",
       " 1657,\n",
       " 1607,\n",
       " 1305,\n",
       " 1341,\n",
       " 1662,\n",
       " 1845,\n",
       " 1980,\n",
       " 1534,\n",
       " 1789,\n",
       " 1876,\n",
       " 1849,\n",
       " 1926,\n",
       " 1958,\n",
       " 977,\n",
       " 1709,\n",
       " 1647,\n",
       " 1832,\n",
       " 1785,\n",
       " 1854,\n",
       " 1667,\n",
       " 1679,\n",
       " 1970,\n",
       " 1186,\n",
       " 2000,\n",
       " 1681,\n",
       " 1684,\n",
       " 1614,\n",
       " 1988,\n",
       " 1561,\n",
       " 1594,\n",
       " 1636,\n",
       " 1327,\n",
       " 1696,\n",
       " 1915,\n",
       " 1045,\n",
       " 1829,\n",
       " 1079,\n",
       " 1295,\n",
       " 1213,\n",
       " 1714,\n",
       " 1992,\n",
       " 1984,\n",
       " 1951,\n",
       " 1687,\n",
       " 1842,\n",
       " 1792,\n",
       " 87,\n",
       " 1732,\n",
       " 428,\n",
       " 1799,\n",
       " 1850,\n",
       " 1962,\n",
       " 1629,\n",
       " 1965,\n",
       " 1142,\n",
       " 1040,\n",
       " 131,\n",
       " 1844,\n",
       " 1454,\n",
       " 1779,\n",
       " 1369,\n",
       " 1960,\n",
       " 1887,\n",
       " 1725,\n",
       " 1893,\n",
       " 1465,\n",
       " 1676,\n",
       " 1826,\n",
       " 1462,\n",
       " 1408,\n",
       " 1937,\n",
       " 1643,\n",
       " 1069,\n",
       " 1759]"
      ]
     },
     "execution_count": 9,
     "metadata": {},
     "output_type": "execute_result"
    }
   ],
   "source": [
    "data"
   ]
  },
  {
   "cell_type": "markdown",
   "metadata": {},
   "source": [
    "When approaching a coding problem, there is never an unique solution. Usually, your goal, is to find the best one in terms of performance (speed, memory usage...) that gives you the exact result (otherwise, it would not be a solution).\n",
    "\n",
    "If the best solution doesn't pop on your mind quickly, a good way to find it is to start with an easy one and then check if you can improve it.\n",
    "\n",
    "For example, for the exercise above, the first solution that comes to my mind is:\n",
    "1. pick a number: \n",
    "2. sum that number with each of the others\n",
    "3. if the sum is 2020: return the couple\n",
    "4. if 3 doesn't happen for all the remaining numbers: take a different number that has not been chosen yet and repeat.\n"
   ]
  },
  {
   "cell_type": "code",
   "execution_count": 20,
   "metadata": {},
   "outputs": [],
   "source": [
    "def algorithm_v0(data):\n",
    "    chosen_numbers = []\n",
    "\n",
    "    for number in data:\n",
    "        if number not in chosen_numbers:\n",
    "            chosen_numbers.append(number)\n",
    "            remaining_numbers = [n for n in data if n!=number]\n",
    "            for n in remaining_numbers:\n",
    "                if n+number == 2020:\n",
    "                    return n, number\n"
   ]
  },
  {
   "cell_type": "code",
   "execution_count": 22,
   "metadata": {},
   "outputs": [
    {
     "name": "stdout",
     "output_type": "stream",
     "text": [
      "1341 679\n"
     ]
    }
   ],
   "source": [
    "n1, n2 = algorithm_v0(data)\n",
    "print(n1, n2)"
   ]
  },
  {
   "cell_type": "markdown",
   "metadata": {},
   "source": [
    "Check if it actually works:"
   ]
  },
  {
   "cell_type": "code",
   "execution_count": 23,
   "metadata": {},
   "outputs": [
    {
     "data": {
      "text/plain": [
       "2020"
      ]
     },
     "execution_count": 23,
     "metadata": {},
     "output_type": "execute_result"
    }
   ],
   "source": [
    "n1 + n2"
   ]
  },
  {
   "cell_type": "markdown",
   "metadata": {},
   "source": [
    "The solution seems to be correct.\n",
    "What is the problem, then?\n",
    "\n",
    "Well, you're wasting time (and so computational power). Ok, not that big deal with a dataset of length"
   ]
  },
  {
   "cell_type": "code",
   "execution_count": 24,
   "metadata": {},
   "outputs": [
    {
     "data": {
      "text/plain": [
       "200"
      ]
     },
     "execution_count": 24,
     "metadata": {},
     "output_type": "execute_result"
    }
   ],
   "source": [
    "len(data)"
   ]
  },
  {
   "cell_type": "markdown",
   "metadata": {},
   "source": [
    "but you're going to be an AI Engineer, you're going to work with *Big* Data, so efficiency could be something you actually want.\n",
    "\n",
    "The algorithm makes 200 sums for almost 200 times in the worst case scenario! More generally: if your list of numbers has length $n$, the algorithms makes $n$ sums for $n$ times. We technically say that the cost is $O(n^{2})$. Don't be scared by this!\n",
    "\n",
    "So let's try to find some heuristics that can help to speed up the algorithm. First, it should be evident that we are repeating many times the same computation: for example, if the list contains only:\n",
    "\n",
    "- 1\n",
    "- 2\n",
    "- 3\n",
    "\n",
    "we are doing the following:\n",
    "\n",
    "- Pick 1\n",
    "- sum 1 + 2, 1 + 3\n",
    "- then pick 2\n",
    "- sum 2 + 1, 2 + 3\n",
    "- then pick 3\n",
    "- sum 3 + 1, 3 + 2\n",
    "\n",
    "What a waste! We compute two times 1 + 2 (in the shape of 2 + 1), two times 1 + 3 (in the shape of 3 + 1) and two times 2 + 3 (in the shape of 3 + 2)!\n",
    "\n",
    "Now you see the trick. We can discard what we have already computed! A new algorithm could be:\n",
    "\n",
    "- pick the first number of the list\n",
    "- sum the number with each of the remaining numbers\n",
    "- if they sum to 2020, return the numbers.\n",
    "- else: remove the first number from the list and repeat.\n"
   ]
  },
  {
   "cell_type": "code",
   "execution_count": 26,
   "metadata": {},
   "outputs": [],
   "source": [
    "def algorithm_v1(data):\n",
    "    first_number = data[0]\n",
    "    list_of_numbers = data[1:]\n",
    "\n",
    "    while len(list_of_numbers)>0:\n",
    "        for n in list_of_numbers:\n",
    "            if first_number + n == 2020:\n",
    "                return first_number, n\n",
    "        first_number = list_of_numbers[0]\n",
    "        list_of_numbers = list_of_numbers[1:]"
   ]
  },
  {
   "cell_type": "code",
   "execution_count": 27,
   "metadata": {},
   "outputs": [
    {
     "name": "stdout",
     "output_type": "stream",
     "text": [
      "679 1341\n",
      "The sum is: 2020\n"
     ]
    }
   ],
   "source": [
    "m1, m2 = algorithm_v1(data)\n",
    "print(m1, m2)\n",
    "print(\"The sum is:\", m1+m2)"
   ]
  },
  {
   "cell_type": "markdown",
   "metadata": {},
   "source": [
    "Same results! Let's measure the time:"
   ]
  },
  {
   "cell_type": "code",
   "execution_count": 33,
   "metadata": {},
   "outputs": [],
   "source": [
    "import time\n",
    "def measure_time(func, data):\n",
    "    start = time.time()\n",
    "    func(data)               # any specific function to measure\n",
    "    end = time.time()\n",
    "    return(end - start) "
   ]
  },
  {
   "cell_type": "code",
   "execution_count": 35,
   "metadata": {},
   "outputs": [
    {
     "name": "stdout",
     "output_type": "stream",
     "text": [
      "Time for Algorithm V0: 0.001985788345336914\n",
      "Time for Algorithm V1: 0.0008540153503417969\n"
     ]
    }
   ],
   "source": [
    "time0, time1 = measure_time(algorithm_v0, data), measure_time(algorithm_v1, data)\n",
    "print(\"Time for Algorithm V0:\", time0)\n",
    "print(\"Time for Algorithm V1:\", time1)"
   ]
  },
  {
   "cell_type": "code",
   "execution_count": 36,
   "metadata": {},
   "outputs": [
    {
     "data": {
      "text/plain": [
       "0.0011317729949951172"
      ]
     },
     "execution_count": 36,
     "metadata": {},
     "output_type": "execute_result"
    }
   ],
   "source": [
    "time0 - time1"
   ]
  },
  {
   "cell_type": "markdown",
   "metadata": {},
   "source": [
    "Algorithm V1 is 0.0011317729949951172 faster then Algorithm V0! \n",
    "\n",
    "Can we do better?\n",
    "\n",
    "Well, yes. When we design an algorithm we have (almost everytime) to consider the *worst case scenario* of the algorithm. In our previous algorithms, the worst case scenario was if the two correct numbers were the last two. In that case, the algorithm would have checked all the possible cases before getting to the right numbers! Even for the second algorithm, in the worst case scenario we would have computed $(n-1) + (n-2) + ... + 1$ sums. Why is this?\n",
    "\n",
    "Think with this example:\n",
    "\n",
    "- 1\n",
    "- 2\n",
    "- 3\n",
    "- 4\n",
    "- 5\n",
    "\n",
    "You compute:\n",
    "(1+2), (1+3), (1+4), (1+5) (4 sums, that is 5-1)\n",
    "(2+3), (2+4), (2+5) (3 sums, 5-2)\n",
    "(3+4), (3+5), (2 sums, 5-3)\n",
    "(4+5) (1 sum)\n",
    "\n",
    "There is a formula, called \"Gauss's formula\", to sum the first $n$ integers and it is:\n",
    "$$\\frac{n(n+1)}{2}$$\n",
    "\n",
    "but in our case we are summing numbers from 1 to $$n-1$$ so it becomes:\n",
    "$$\\frac{(n-1)n}{2} = \\frac{n^{2}-n}{2}$$.\n",
    "\n",
    "So it is less than $n^{2}$, but still a big number! Think if $n= 1000000$: then it would be "
   ]
  },
  {
   "cell_type": "code",
   "execution_count": 38,
   "metadata": {},
   "outputs": [
    {
     "data": {
      "text/plain": [
       "499999500000.0"
      ]
     },
     "execution_count": 38,
     "metadata": {},
     "output_type": "execute_result"
    }
   ],
   "source": [
    "(1000000**2 -1000000)/2 #!!!!!"
   ]
  },
  {
   "cell_type": "markdown",
   "metadata": {},
   "source": [
    "So, what if we sort the numbers? Sorting is an operation that computers do pretty fast, in $O(nlogn)$ time. WTF does it mean? Less than $O(n^{2})$. Try it yourself with a big number, like 1000000: you will get:\n"
   ]
  },
  {
   "cell_type": "code",
   "execution_count": 43,
   "metadata": {},
   "outputs": [
    {
     "name": "stdout",
     "output_type": "stream",
     "text": [
      "13815510.557964273 that is less than 1000000000000\n",
      "n^2 is 999986184489.442 higher\n"
     ]
    }
   ],
   "source": [
    "from math import log\n",
    "\n",
    "print(1000000*log(1000000), \"that is less than\", 1000000**2)\n",
    "print(\"n^2 is\", 1000000**2 - 1000000*log(1000000), \"higher\")"
   ]
  },
  {
   "cell_type": "markdown",
   "metadata": {},
   "source": [
    "Now that I have your trust, let's think to another algorithm.\n",
    "If the numbers are sorted, then we could try this:\n",
    "\n",
    "1. take two indices: `i=0` and `j` is the position of the biggest number, in python `j = len(data)-1`\n",
    "2. if the numbers in positions `i` and `j` sum to 2020: return the numbers\n",
    "3. else: if `2020 - data[j] > data[i]` increase `i`, else decrease `j`\n",
    "4. repeat from 2.\n",
    "\n",
    "Implement it:"
   ]
  },
  {
   "cell_type": "code",
   "execution_count": 48,
   "metadata": {},
   "outputs": [],
   "source": [
    "def algorithm_with_sort(data):\n",
    "    data.sort()\n",
    "    i = 0\n",
    "    j = len(data) - 1\n",
    "    while i < j:\n",
    "        if data[i] + data[j] == 2020:\n",
    "            return data[i], data[j]\n",
    "        elif data[i] < 2020 - data[j]:\n",
    "            i += 1\n",
    "        else:\n",
    "            j -= 1"
   ]
  },
  {
   "cell_type": "markdown",
   "metadata": {},
   "source": [
    "Correct me if I'm wrong, but I'd say that the worst case scenario is when the two numbers are exactly in the middle of your sorted list:\n",
    "\n",
    "- 1 \n",
    "- 2\n",
    "- 1009 \n",
    "- 1011 \n",
    "- 2000  \n",
    "- 2015\n",
    "\n",
    "If you simulate manually the algorithm, you will ends up with 7 sums ($n-1$) and this cost must be added to the cost of sorting: $nlogn + n - 1$ that in the big O notation is $nlogn$. That's an improvement!\n",
    "\n",
    "We can still do better, using hash tables (very handy in Python), but what I want to share with you is just the reasoning process behind finding a algorithm that gives you the solution and iteratively improve it. However, if you want to challenge yourself and find it, then it will be very enlightening!\n",
    "\n",
    "*N.B.* I didn't give any proof of the *correctness* of the algorithms, otherwise it would have been too long. However it is a very important step in designing an algorithm: so if you want to know more, I recommend this article: https://medium.com/@joao_rafael/a-light-and-basic-introduction-to-algorithm-correctness-efficiency-and-big-o-notation-6ddbc671e2ee\n",
    "\n"
   ]
  },
  {
   "cell_type": "markdown",
   "metadata": {},
   "source": [
    "Oh, and don't forget to multiply the two numbers!"
   ]
  },
  {
   "cell_type": "code",
   "execution_count": null,
   "metadata": {},
   "outputs": [],
   "source": []
  }
 ],
 "metadata": {
  "kernelspec": {
   "display_name": "Python 3",
   "language": "python",
   "name": "python3"
  },
  "language_info": {
   "codemirror_mode": {
    "name": "ipython",
    "version": 3
   },
   "file_extension": ".py",
   "mimetype": "text/x-python",
   "name": "python",
   "nbconvert_exporter": "python",
   "pygments_lexer": "ipython3",
   "version": "3.6.8"
  }
 },
 "nbformat": 4,
 "nbformat_minor": 4
}
